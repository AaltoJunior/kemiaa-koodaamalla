{
 "cells": [
  {
   "cell_type": "markdown",
   "metadata": {},
   "source": [
    "# Tervetuloa Lääkekemiaa koodaamalla -etätyöpajaan!\n",
    "\n",
    "### Tarina \n",
    "\n",
    "_Olet kemisti suuren lääkefirman laboratoriossa. **Tehtävänäsi on tutkia lääkeyhdisteitä ja verrata näiden ominaisuuksia aspiriiniin.** Erityisesti vesiliukoisuus on merkityksellinen, koska lääkeyhdisteen halutaan liukenevan hyvin vereen. Lääkeyhdisteen biologinen vaikutus ja metabolia voidaan mallintaa myöhemmin._\n",
    "\n",
    "_Olet tutkinut jo monta erilaista lupaavaa lääkeyhdistettä tuloksetta laboratoriossa vaativilla liukoisuuskokeilla, jotka riippuvat liuosten happamuudesta ja lämpötilasta. Projektin määräaika viimeistellä liukoisuuskokeet häämöttää. On siis keksittävä uusia tapoja määritellä yhdisteiden otannasta parhaimmat mahdolliset lääkeyhdisteet jatkotutkimuksia ja kokeellisuutta varten._\n",
    "\n",
    "_Onneksi sinulla on pääsy erilaisiin laboratoriotuloksiin ja mallinnustyökaluihin, joita farmasian ja kemian ohjelmistokehittäjät ovat uurastaneet jo vuosikymmeniä. On aika sukeltaa keminformatiikan maailmaan ja ratkaista vesiliukoisuuskokeet ennen määräaikaa!_\n"
   ]
  },
  {
   "cell_type": "markdown",
   "metadata": {},
   "source": [
    "### Sisältö\n",
    "1. Piirretään yhdiste SMILES-merkkijonon avulla, sekä luodaan sen liitostaulukko\n",
    "2. Tutustutaan stereoisomeriaan\n",
    "3. Tutustutaan PUG-REST -menetelmään ja SMILES:hin\n",
    "4. Piirretään lääkeaineita\n",
    "5. Tutustutaan IUPAC-nimiin ja PubChem tietokantaan\n",
    "6. Tutkitaan moolimassan ja kiehumispisteen korrelaatiota\n",
    "7. Lineaarisen regressiomallin sovittaminen\n",
    "8. Lääkeaineiden toimivuuden ennustaminen\n",
    "9. Koneoppimisen malli\n",
    "10. Ennustetaan liukoisuutta\n",
    "11. SwissADME\n",
    "\n",
    "**Jokaisen tehtävän alla on lisätietoa. Luethan nämä ennen tehtävän suorittamista!**"
   ]
  },
  {
   "cell_type": "markdown",
   "metadata": {},
   "source": [
    "## Tekniset ohjeet\n",
    "\n",
    "Tässä työssä työskennellään Jupyter-notebookissa. Tämä notebook on ympäristö, joka sisältää soluja, jotka tekevät sen lukemisesta **modulaarisen**. Tämä modulaarisuus tarkoittaa sitä, että tietokone lukee jokaisen solun yksin, mutta ylhäältä alaspäin järjestyksessä. Solut voidaan jakaa kahteen tyyppiin tässä työohjeessa:\n",
    "\n",
    "- Koodisoluihin, joihin voidaan kirjoittaa komentoja. Usein ennen tätä ne lataavat erilaisia kirjastoja, mitä hyödyntää komentojen ja prosessien tekemiseen.\n",
    "- Markdown language -soluihin, joissa on tekstiä, jota voidaan muotoilla kuten tekstieditorissa, mutta tietyillä **komennoilla** erilaisia merkkejä joko ennen tai molemmin puolin sanaa.\n",
    "\n",
    "Voit muokata kaikkia soluja kaksoisklikkaamalla solua ja kirjoittaa riveille komentoja tai siirtää kopioitua tekstiä niille -komennolla. Voit ajaa jokaisen solun, ja täten nähdä muutoksesi vaikutuksen painamalla: **CTRL + ENTER**\n",
    "\n",
    "Jos kohtaat teknisiä ongelmia (esimerkiksi jokin solu ei toimi), tämä voi johtua siitä, että olet ajanut solun eri järjestyksessä kuin normaalisti. Pyri ajamaan soluja ylhäältä alaspäin. Jos ongelma ei johdu tästä, käytä tallenna komentoa ja paina tämän jälkeen **CTRL + SHIFT + R**. Tämä  nollaa notebookin. Vaihtoehtoisesti voit ajaa komennon 'Restart the kernel' yläpalkistosta.\n"
   ]
  },
  {
   "cell_type": "markdown",
   "metadata": {},
   "source": [
    "---"
   ]
  },
  {
   "cell_type": "markdown",
   "metadata": {},
   "source": [
    "### Kertaus SMILES-säännöistä\n",
    "\n",
    "**Taulukko 1.** SMILES-säännöt erilaisilla esimerkeillä.\n",
    "| Symboli | Esim. | Selitys |\n",
    "| --- | --- | --- |\n",
    "| Kemiallinen merkki | `O` | Kyseessä on molekyyli, vesi. Alkuaineet ilmaistaan kemiallisina merkkeinä, kuten jaksollisessa järjestelmässä. Vetyjä ei ilmoiteta vaan ne tulkitaan automaattisesti osaksi yhdistettä perustuen alkuaineen tyypilliseen valenssiin, eli sidosten lukumäärään. Katso koodista miten ne saadaan näkyviin. |\n",
    "| Kovalenttinen sidos | `C=C` | Yksinkertaisia sidoksia ei esitetä, mutta kaksois- ja kolmoissidokset esitetään = ja # symbolein. |\n",
    "| Vedyt | `C` | Merkitään vain kiraalisuuden määrittämisessä, C vastaa metaania eli CH4:stä. |\n",
    "| Haarat | `CCCC(C)CC` | Sulut () ilmoittavat haaran ja suluissa ilmoitetaan mikä haara on kyseessä.  |\n",
    "| Rengasrakenne | `C1CCCCC1` tai `C1CCC(C(C1)Cl)Cl` | Numerot 1-9 ilmoittavat atomin sijainnin rengasrakenteessa. Vedyt korvanneet substituentit voidaan laittaa sulkuihin. HUOM. Cl on kloori-atomi.|\n",
    "| Aromaattisuus | `c1ccccc1` | Rengasrakenteen kiraalisuus voidaan esittää vaihtamalla kirjaimet pieniksi. |\n",
    "| Kiraalisuus | `C[C@@H](C(=O)O)N`  | L-alaniini, jossa @@ hiilen jälkeen osoittaa sen kiraaliseksi. |\n",
    "| Isotoopit | `[13C]` | C13-isotoopeista koostuva etaanimolekyyli. Numerot ennen alkuainemerkkiä osoittavat isotoopin. |\n",
    "| Sähköinen varaus ja radikaalit | `[NH4+].[Cl-]` tai `C[CH2].[CH3]`  | Varaus + tai -, ja radikaalit usein luetaan erityisillä algoritmeilla ohjelmistoissa, jotka tulkitsevat SMILES-merkkijonoja. Niille ei ole vakiintunutta merkintää.  |"
   ]
  },
  {
   "cell_type": "markdown",
   "metadata": {},
   "source": [
    "---"
   ]
  },
  {
   "cell_type": "markdown",
   "metadata": {},
   "source": [
    "## 1. Piirretään yhdiste SMILES-merkkijonon avulla, sekä luodaan sen liitostaulukko\n",
    "Kokeillaan yhdisteen piirtämistä. Testataan samalla miten liitostaulukot toimivat. Valitse jokin monimutkaisempi SMILES ja kokeile luoda liitostaulukko sille seuraavan koodin avulla. Voit myös kokeilla useammalle SMILESille. Tietokone aloittaa indeksoinnin nollasta, eli ensimmäinen hiili on taulukossa ja rakenne kuvassa numerolla 0."
   ]
  },
  {
   "cell_type": "code",
   "execution_count": null,
   "metadata": {},
   "outputs": [],
   "source": [
    "# Tuodaan tarvittavat moduulit kirjastoista.\n",
    "from rdkit import Chem\n",
    "from rdkit.Chem import rdDepictor\n",
    "from rdkit.Chem.Draw import IPythonConsole\n",
    "from rdkit.Chem.Draw import rdMolDraw2D\n",
    "from IPython.display import SVG\n",
    "import numpy as np\n",
    "import pandas as pd\n",
    "\n",
    "mol = Chem.MolFromSmiles('CCCC') # Vaihda tähän jokin monimutkainen SMILES C:n tilalle.\n",
    "\n",
    "# Määritellään asetuksia rdkitin piirtofunktiolle.\n",
    "d2d = rdMolDraw2D.MolDraw2DSVG(300,300)\n",
    "d2d.drawOptions().addAtomIndices = True  # Lisätään kuvaan hiilten numerointi. Numerointi alkaa tietokoneelle numerosta 0.\n",
    "d2d.DrawMolecules([mol])\n",
    "d2d.FinishDrawing()\n",
    "svg = SVG(d2d.GetDrawingText())\n",
    "\n",
    "num_atoms = mol.GetNumAtoms()\n",
    "connectivity_matrix = np.zeros((num_atoms, num_atoms), dtype=int)\n",
    "\n",
    "\n",
    "# Luodaan liitostaulukko for-silmukan avulla.\n",
    "for bond in mol.GetBonds():\n",
    "    begin_atom_idx = bond.GetBeginAtomIdx()    \n",
    "    end_atom_idx = bond.GetEndAtomIdx()\n",
    "    bond_type = int(bond.GetBondTypeAsDouble())    \n",
    "    connectivity_matrix[begin_atom_idx][end_atom_idx] = bond_type\n",
    "    connectivity_matrix[end_atom_idx][begin_atom_idx] = bond_type\n",
    "    \n",
    "df = pd.DataFrame(connectivity_matrix)\n",
    "\n",
    "# Tulostetaan rakennekaava ja liitostaulukko.\n",
    "display(svg, df)"
   ]
  },
  {
   "cell_type": "markdown",
   "metadata": {},
   "source": [
    "### Kysymys 1.\n",
    "**Minkä yhdisteen piirsit ja mitä funktionaalisia ryhmiä yhdisteellä on?**\n",
    "\n",
    "**Mikä sidos on toisen ja kolmannen hiilen välillä?**"
   ]
  },
  {
   "cell_type": "markdown",
   "metadata": {},
   "source": [
    "----"
   ]
  },
  {
   "cell_type": "markdown",
   "metadata": {},
   "source": [
    "## 2. Tutustutaan stereoisomeriaan"
   ]
  },
  {
   "cell_type": "code",
   "execution_count": null,
   "metadata": {},
   "outputs": [],
   "source": [
    "# Tällä koodilla voit piirtää streokemiallisia yhdisteitä\n",
    "# Aluksi mol1 ja mol2 määritellään SMILES:ksi\n",
    "\n",
    "mol1 = Chem.MolFromSmiles('C/C=C/C') # Huomaa, että tämä toimii vain isomeerisille SMILES-merkkijonoille\n",
    "mol2 = Chem.MolFromSmiles('C[C@H](O)[C@@H](N)C(O)=O')\n",
    "\n",
    "\n",
    "d2d = rdMolDraw2D.MolDraw2DSVG(600,280,300,280)\n",
    "d2d.drawOptions().addStereoAnnotation=True # Komento merkitsee piirrokseen kiraaliset keskukset.\n",
    "d2d.DrawMolecules([mol1,mol2]) # RDKit pystyy tulostamaan vain kaksi molekyyliä kerrallaan\n",
    "d2d.FinishDrawing()\n",
    "rakenneKaavat = SVG(d2d.GetDrawingText())\n",
    "display(rakenneKaavat)"
   ]
  },
  {
   "cell_type": "markdown",
   "metadata": {},
   "source": [
    "### Kysymys 2.\n",
    "**Onko vasemmanpuoleinen molekyyli cis vai transmuotoinen?**\n",
    "\n",
    "**Montako kiraliakeskusta löytyy oikeanpuoleisesta yhdisteestä?**"
   ]
  },
  {
   "cell_type": "markdown",
   "metadata": {},
   "source": [
    "---"
   ]
  },
  {
   "cell_type": "markdown",
   "metadata": {},
   "source": [
    "## 3. Tutustutaan PUG-REST -menetelmään ja SMILES:hin\n",
    "\n",
    "Ohjelmistoympäristöön voi tuoda helposti yhdisteitä teettämällä kyselyitä PubChem-palvelimelta. Tämä on erityisen hyödyllistä, kun halutaan nopeasti tuoda tietoa lääkeyhdisteistä ilman hakukoneita luettelemalla haluttuja molekyylejä osaksi koodia. \n",
    "\n",
    "Tästä on erityistä hyötyä, kun haluat hakea SMILES-merkkijonoja tietokannasta."
   ]
  },
  {
   "cell_type": "markdown",
   "metadata": {},
   "source": [
    "### Esimerkkejä lääkkeistä\n",
    "| Lääkeaine                  | Tuotenimi                                                                                                                    | Kuvaus |\n",
    "| ----------- | -------------------------- | ---------------------------------------------------------------------------------------------------------------------------- |\n",
    "| Aspirin                | (Aspirin)                                           | Maailman käytetyin tulehduskipulääke. Ehkäisee veren hyytymistä, joten käytetään sydäninfarktien ensihoitoon.                                                                                                                                               |\n",
    "| Ibuprofen              | (Burana)                                             | Tulehduskipulääke.                                                                                                                                                                                                                                       |\n",
    "| Paracetamol            | (Panadol)                                            | Kipulääke.                                                                                                                                                                                                                                               |\n",
    "| Morphine                | (Morfiini)                                           | Voimakas kipulääke. Käytetään sairaalahoidossa.                                                                                                                                                                                                          |\n",
    "| Cortisone\t             | (Prednison, Hydrocortison)                           | Kortisonia käytetään esim. astmaan, allergiohin ja ihosairauksien hoitoon. Käytetään hengitysteitse, tablettina sekä voiteena.                                                                                                                             |\n",
    "| Penicillin V           | (V-Pen)                                              | Antibiotti bakteeri-infektioiden hoitoon.                                                                                                                                                                                                                |\n",
    "| Cetirizine\t            | (Heinix)                                             | Antihistamiini allegioiden hoitoon.                                                                                                                                                                                                                      |\n",
    "| Insulin                | (Lantus)                                             | Hormoni diabeteksen hoitoon.                                                                                                                                                                                                                             |\n",
    "| Paclitaxel             | (Taxol)                                              | Syöpälääke.                                                                                                                                                                                                                                              |\n",
    "| Sertraline              | (Zoloft)                                             | Masennuslääke, käytetään myös paniikkihäiriöön ja pakkoireisiin.                                                                                                                                                                                         |\n"
   ]
  },
  {
   "cell_type": "markdown",
   "metadata": {},
   "source": [
    "Valitse kolme tutkittavaa lääkeainetta. Voit hyödyntää yllä olevaa taulukkoa, tai käyttää itse valitsemiasi lääkeaineiden nimiä. Syötä lääkaineet koodiin englanniksi! Voit etsiä netistä lääkkeen vaikuttavan aineen nimen. Älä käytä lääkkeen tuotenimeä."
   ]
  },
  {
   "cell_type": "code",
   "execution_count": null,
   "metadata": {},
   "outputs": [],
   "source": [
    "# Tuodaan tarvittavat moduulit kirjastoista.\n",
    "import requests\n",
    "\n",
    "# Luodaan funktio, jolla haetaan PubChemin tietokannasta tiedot käyttäen PUG-REST menetelmää.\n",
    "# Älä muokkaa tätä osuutta koodista!\n",
    "def retrieve_names(compound_names):\n",
    "    pugrest = \"https://pubchem.ncbi.nlm.nih.gov/rest/pug\"\n",
    "    pugoper = \"property/CanonicalSMILES\"\n",
    "    pugout = \"txt\"\n",
    "    results = {}\n",
    "    for compound_name in compound_names:\n",
    "        pugin = \"compound/name/\" + compound_name\n",
    "        url = f\"{pugrest}/{pugin}/{pugoper}/{pugout}\"\n",
    "        response = requests.get(url)\n",
    "        if response.status_code == 200:\n",
    "            results[compound_name] = response.text.strip()  # Poistetaan ylimääräiset välilyönnit.\n",
    "        else:\n",
    "            results[compound_name] = f\"Error: {response.status_code}\"\n",
    "    return results\n",
    "\n",
    "# Muokkaa alla olevaa koodiriviä. Lisää tähän valitsemasi englanninkieliset lääkeaineiden nimet lainausmerkkien sisään.\n",
    "compound_names = [\"\", \"\", \"\"] \n",
    "# Muokkaa vain yllä olevaa koodiriviä.\n",
    "\n",
    "# Haetaan retrive_names funktiota käyttäen SMILES-merkkinojot.\n",
    "canonical_smiles = retrieve_names(compound_names)\n",
    "\n",
    "# Tulostetaan tulokset.\n",
    "for compound_name, smiles in canonical_smiles.items():\n",
    "    print(f\"Canonical SMILES for {compound_name}: {smiles}\")"
   ]
  },
  {
   "cell_type": "markdown",
   "metadata": {},
   "source": [
    "### Kysymys 3.\n",
    "**Mitä lääkeaineita valitsit ja mitkä ovat niiden SMILES-merkkijonot?**"
   ]
  },
  {
   "cell_type": "markdown",
   "metadata": {},
   "source": [
    "---"
   ]
  },
  {
   "cell_type": "markdown",
   "metadata": {},
   "source": [
    "## 4. Piirretään lääkeaineita\n",
    "\n",
    "Testaa hakujesi tuloksia lisäämällä SMILES kerrallaan `''` merkkien väliin."
   ]
  },
  {
   "cell_type": "code",
   "execution_count": null,
   "metadata": {},
   "outputs": [],
   "source": [
    "# Tuodaan tarvittavat moduulit kirjastoista.\n",
    "from rdkit import Chem \n",
    "from rdkit.Chem.Draw import IPythonConsole \n",
    "from rdkit.Chem import rdDepictor \n",
    "from rdkit.Chem.Draw import rdMolDraw2D \n",
    "from IPython.display import SVG \n",
    "\n",
    "smiles = 'CCCC' # Testaa hakujesi tuloksia lisäämällä SMILES kerrallaan '' merkkien väliin. \n",
    "m = Chem.MolFromSmiles(smiles)\n",
    "# m = Chem.AddHs(m) # Voit tällä komennolla visualisoida kaikki vedyt, jos haluat. Poista ensimmäinen #-merkki aktivoidaksesi asetuksen\n",
    "\n",
    "\n",
    "# Luodaan funktio moltosvg_with_indices, joka luo SMILES-merkkijonosta rakennekaavan kuvan SVG-muotoon.\n",
    "def moltosvg_with_indices(mol, molSize = (350,300), kekulize = True):\n",
    "    mc = Chem.Mol(mol.ToBinary())\n",
    "    if kekulize:\n",
    "        try:\n",
    "            Chem.Kekulize(mc)\n",
    "        except:\n",
    "            mc = Chem.Mol(mol.ToBinary())\n",
    "    if not mc.GetNumConformers():\n",
    "        rdDepictor.Compute2DCoords(mc)\n",
    "    drawer = rdMolDraw2D.MolDraw2DSVG(molSize[0],molSize[1])\n",
    "    drawer = Chem.Draw.rdMolDraw2D.MolDraw2DSVG(molSize[0], molSize[1])\n",
    "    drawer.drawOptions().addAtomIndices = True\n",
    "    drawer.DrawMolecule(mc)\n",
    "    drawer.FinishDrawing()\n",
    "    svg = drawer.GetDrawingText()\n",
    "    return SVG(svg)\n",
    "    \n",
    "\n",
    "rakenneKaava = moltosvg_with_indices(m)  # Määritetään rakenneKaava muuttuja ja asetetaan sen arvoksi SVG kuva moltosvg_with_indices funktiolla.\n",
    "display(rakenneKaava)       # Tulostetaan rakennekaavan kuva."
   ]
  },
  {
   "cell_type": "markdown",
   "metadata": {},
   "source": [
    "### Kysymys 4.\n",
    "**Mitä funktionaalisia ryhmiä löydät lääkeaineista?**"
   ]
  },
  {
   "cell_type": "markdown",
   "metadata": {},
   "source": [
    "---"
   ]
  },
  {
   "cell_type": "markdown",
   "metadata": {},
   "source": [
    "## 5. Tutustutaan IUPAC-nimiin ja PubChem tietokantaan\n",
    "\n",
    "Haetaan PubChem tietokannasta aineiden tietoja niiden nimien perusteella. `names` listaan on lisätty esimerkki aineita. Muokkaa näitä oman maun mukaan."
   ]
  },
  {
   "cell_type": "code",
   "execution_count": null,
   "metadata": {},
   "outputs": [],
   "source": [
    "# Tällaisella koodilla voit hakea erilaisilla triviaali- tai IUPAC-nimillä tiettyjä tietoja PubChem-tietokannasta.\n",
    "\n",
    "# Tuodaan tarvittavat moduulit kirjastoista.\n",
    "import pubchempy as pcp \n",
    "import pandas as pd\n",
    "pd.options.display.max_colwidth = 1000 # Määritetään pandas-kirjaston sarakkeille oletusarvoa pidempi maksimi pituus.\n",
    "\n",
    "# Lista esimerkki aineista. Voit lisätä tähän haluamasi yhdisteet.\n",
    "names = [\"water\", \n",
    "         \"benzene\", \n",
    "         \"methanol\", \n",
    "         \"ethene\", \n",
    "         \"ethanol\", \n",
    "         \"propene\", \n",
    "         \"1-propanol\", \n",
    "         \"2-propanol\", \n",
    "         \"butadiene\", \n",
    "         \"1-butanol\", \n",
    "         \"2-butanol\", \n",
    "         \"tert-butanol\"]\n",
    "\n",
    "# Käytetään for-silmukkaa listan läpikäymiseen ja tallennenetaan aineiden ID:t listaan.\n",
    "# PubChem-tietokannan yhdisteet on indeksoitu (ID) ja CID on lyhenne kemialliselle indeksille.\n",
    "# Ne ovat uniikkeja nimikkeille ja toimivat selkeämpänä perustana haulle SMILES:n tai muiden tietojen sijaan.\n",
    "compound_ids = []\n",
    "for name in names:\n",
    "    try:\n",
    "        cp = pcp.get_compounds(name, namespace='name')\n",
    "        if cp:\n",
    "            compound_ids.append(cp[0].cid)\n",
    "    except Exception as e:\n",
    "        print(f\"Error retrieving CID for '{name}', : {e}\")\n",
    "results = pcp.get_properties(['IUPACName', 'MolecularFormula', 'MolecularWeight', 'CanonicalSMILES'], compound_ids)\n",
    "\n",
    "# Luodaan tuloksista pandas-kirjaston taulukko ja tulostetaan se.\n",
    "df = pd.DataFrame(results)\n",
    "display(df)"
   ]
  },
  {
   "cell_type": "markdown",
   "metadata": {},
   "source": [
    "### Kysymys 5.\n",
    "**Miten valitsemasi lääkeaineen nimi eroaa IUPAC-nimestä?**"
   ]
  },
  {
   "cell_type": "markdown",
   "metadata": {},
   "source": [
    "---"
   ]
  },
  {
   "cell_type": "markdown",
   "metadata": {},
   "source": [
    "## 6. Tutkitaan moolimassan ja kiehumispisteen korrelaatiota\n",
    "\n",
    "QSAR-algoritmiä voidaan hyödyntää lääkeaineiden biologisen aktiivisuuden ennustamiseen. Ihan ensimmäiseksi algoritmia hyödynnettiin silti kiehumispisteen ennustamiseen molekyylirakenteen perusteella. Siksi aloitetaan tässä työpajassa visualisoimalla moolimassan ja kiehumispisteen korrelaatiota. "
   ]
  },
  {
   "cell_type": "code",
   "execution_count": null,
   "metadata": {},
   "outputs": [],
   "source": [
    "# Tuodaan tarvittavat moduulit kirjastoista.\n",
    "import pandas as pd\n",
    "\n",
    "pd.options.display.max_colwidth = 1000  # Määritetään pandas kirjaston sarakkeille oletusarvoa pidempi maksimipituus.\n",
    "df = pd.read_csv('../../data/BP.csv')              # Luetaan tiedosto taulukoksi pandas-kirjaston avulla.\n",
    "display(df)                             # tulostaa taulukon, koska määritelty df tarkoittaa dataframe -komentoa."
   ]
  },
  {
   "cell_type": "code",
   "execution_count": null,
   "metadata": {},
   "outputs": [],
   "source": [
    "# Tuodaan tarvittavat moduulit kirjastoista.\n",
    "import matplotlib.pyplot as plt\n",
    "\n",
    "plt.scatter(df.Moolimassa, df.Kiehumispiste_K)      # Tekee verrannon kiehumispisteen (K) suhteesta moolimassaan\n",
    "plt.xlabel('Moolimassa')                            # Asetetaa x-akselille nimi\n",
    "plt.ylabel('Kiehumispiste')                         # Asetetaa y-akselille nimi\n",
    "plt.show()                                          # Tulostetaan kuvaaja"
   ]
  },
  {
   "cell_type": "markdown",
   "metadata": {},
   "source": [
    "### Kysymys 6.\n",
    "**Mitä voit päätellä molekyylien kiehumispisteistä ja niiden suhteesta moolimassaan? Miksi sama moolimassa voi johtaa eri kiehumispisteeseen?**"
   ]
  },
  {
   "cell_type": "markdown",
   "metadata": {},
   "source": [
    "---"
   ]
  },
  {
   "cell_type": "markdown",
   "metadata": {},
   "source": [
    "## 7. Lineaarisen regressiomallin sovittaminen\n",
    "\n",
    "Lineeariset sovitukset ovat tuttuja varmasti matematiikan tunneilta. Tämä matemaattinen mallintaminen on yksi keskeisimpiä menetelmiä keminformatiikassa, koska sillä voidaan tarkastella erilaisten muuttujien suhdetta toisiinsa (korrelaatio) alkaen kahdesta tai usemmasta tekijästä. Alla on koodia, jolla voidaan sovittaa regressiomalli datasettiin. Mitä huomaat, kun koodi tulostaa kuvaajan? "
   ]
  },
  {
   "cell_type": "code",
   "execution_count": null,
   "metadata": {},
   "outputs": [],
   "source": [
    "# Tuodaan tarvittavat moduulit kirjastoista.\n",
    "import numpy as np\n",
    "import pandas as pd\n",
    "import matplotlib.pyplot as plt\n",
    "import seaborn as sns\n",
    "from sklearn.linear_model import LinearRegression\n",
    "\n",
    "# Tuodaan dataa .csv tiedostosta taulukoksi\n",
    "df = pd.read_csv('../../data/BP.csv')\n",
    "\n",
    "# Sovitetaan lieneaarinen regressiomalli\n",
    "model = LinearRegression()\n",
    "X = df[['Moolimassa']]          # Riippumaton muuttuja\n",
    "y = df[['Kiehumispiste_K']]     # Riippuva muuttuja\n",
    "model.fit(X, y)\n",
    "\n",
    "# Piirrä  pistekuvio datasta \n",
    "plt.figure()\n",
    "sns.scatterplot(x='Moolimassa', y='Kiehumispiste_K', data=df, color='tab:blue', label='Datapisteet')\n",
    "\n",
    "# Piirrä regressiosuora\n",
    "plt.plot(X, model.predict(X), color='tab:red', label='Lineaarinen regressio')\n",
    "\n",
    "# Aseta otsikot ja mitat\n",
    "plt.xlabel('Moolimassa')\n",
    "plt.ylabel('Kiehumispiste (K)')\n",
    "plt.title('Lineaarinen regressiomalli')\n",
    "\n",
    "# Näytä selite\n",
    "plt.legend()\n",
    "\n",
    "# Näytä kuvaaja\n",
    "plt.show()"
   ]
  },
  {
   "cell_type": "markdown",
   "metadata": {},
   "source": [
    "### Kysymys 7.\n",
    "**Seuraako punainen regressiosuora datapisteitä tarkasti?**"
   ]
  },
  {
   "cell_type": "markdown",
   "metadata": {},
   "source": [
    "---"
   ]
  },
  {
   "cell_type": "markdown",
   "metadata": {},
   "source": [
    "## 8. Lääkeaineiden toimivuuden ennustaminen\n",
    "### Tehtäväsi\n",
    "\n",
    "**Löytää yhdisteitä, joilla on aspiriiniin verrattavissa oleva liukoisuus LogS-arvo -2.1 tutkimalla niitä alla sijaitsevan koneoppimisen mallin avulla.** LogS-arvo kuvaa yhdisteen vesiliukoisuutta ja alla olevassa taulukossa on kerrottu siitä tarkemmin. \n",
    "\n",
    "| Liukoisuus (LogS) | LogS < -4            | -4 < LogS < -2            | -2 < LogS < 0 |\n",
    "| ----------------- | ----------------- | -------------------- | ------------------------- |\n",
    "| Tulkinta                           | Ei liukene veteen                  | Liukenee melko hyvin                     | Liuekenee erinomaisesti                            |\n",
    "| Pitoisuus veressä                  | Minimaalinen                       | Hyvä                                     | Korkea, pitoisuuden nousu                          |\n",
    "\n",
    "\n",
    "On aika tutkia vähintään 5 yhdistettä aloittamalla niiden SMILES-nimistä. Käytä aina valitsemiesi yhdisteiden lisäksi **aspiriiniä** referenssinä:\n",
    "\n",
    "- Voit etsiä tietokantoja joko vapaasti tai PUG-REST -komennoilla\n",
    "- Hyödynnä kokeellista dataa yhdisteistä (taulukko).\n",
    "\n",
    "Arvioi niiden soveltuvuutta lääkeyhdisteiksi erityisesti **liukoisuuden arvon ja Lipinskin viiden säännön suhteen**.\n",
    "\n",
    "**Tämän työn tarkoitus on kartoittaa pieni otos samaa liukoisuutta omaavista yhdisteistä**, joita esimerkiksi sinä tai muut voivat **hyödyntää lähtökohtana seuraaville keminformatiikan liukoisuusmalleille**. Kaikki lähtee tunnetuista ja varmennetuista datapisteistä! Onnea matkaan!"
   ]
  },
  {
   "cell_type": "code",
   "execution_count": null,
   "metadata": {},
   "outputs": [],
   "source": [
    "# Voit esimerkiksi tutkia vastaako mallin arvot kokeellisten tutkimusten tuloksia. \n",
    "# Datasetissä on epäonnistuneiden ennusteiden ja oikeiden ennusteiden tuloksia.\n",
    "\n",
    "# Tuodaan tarvittavat moduulit kirjastoista.\n",
    "import numpy as np\n",
    "import pandas as pd\n",
    "\n",
    "# Määriteään pandaskirjaston tulostusasetuksia\n",
    "pd.options.display.max_colwidth = 1000  # Määritetään pandas kirjaston sarakkeille oletusarvoa pidempi maksimipituus.\n",
    "pd.options.display.max_rows = 500       # Määritetään pandas kirjastolle oletusarvoa enemmän rivejä.\n",
    "\n",
    "df = pd.read_csv('../../data/kokeellisetLogS_referenssipisteet.csv') # Luetaan tiedosto taulukoksi pandas -ohjelmiston avulla.\n",
    "df = df.loc[:100, ['Chemical name', 'LogS exp (mol/L)', 'Test', 'SMILES']] # Valitaan tulukosta haluamamme sarakkeet\n",
    "\n",
    "# Tulostetaan taulukko\n",
    "display(df)"
   ]
  },
  {
   "cell_type": "markdown",
   "metadata": {},
   "source": [
    "## 9. Koneoppimisen malli"
   ]
  },
  {
   "cell_type": "code",
   "execution_count": null,
   "metadata": {},
   "outputs": [],
   "source": [
    "# Tuodaan koneoppimisen malli lääkeyhdisteiden vesiliukoisuuden ennustamiseksi. \n",
    "\n",
    "# Tuodaan tarvittavat moduulit kirjastoista.\n",
    "from pycaret.classification import *\n",
    "\n",
    "# Ladataan ennanltaopetettu koneoppimisen malli.\n",
    "model = load_model(\"../../data/WaterSoulubility_02_06_2025_model\")"
   ]
  },
  {
   "cell_type": "markdown",
   "metadata": {},
   "source": [
    "Käytä tätä koneoppimisen mallia ennustamaan yhdisteiden liukoisuutta ja soveltuvuutta lääkeaineiksi! Syötä SMILES-jonoja yhdisteille mitä haluat tutkia, mutta muista erottaa ne pilkulla ja rivinvaihdolla."
   ]
  },
  {
   "cell_type": "code",
   "execution_count": null,
   "metadata": {},
   "outputs": [],
   "source": [
    "# Tuodaan tarvittavat moduulit kirjastoista.\n",
    "from chem_util import descriptors_from_smiles \n",
    "\n",
    "# Syötä listaan SMILES-merkkijonoja käyttäen lainausmerkkejä jokaisen yhdisteen ympärille esimerkin mukaisesti.\n",
    "# Esimerkiksi seuraavat yhdisteet.\n",
    "smiles = [\n",
    "  \"C1CCCCC1\",\n",
    "  \"CC(C)Cc1ccc(cc1)C(C)C(=O)O\",\n",
    "  \"CC1(C(N2C(S1)C(C2=O)NC(=O)C(C3=CC=C(C=C3)O)N)C(=O)O)C\",\n",
    "  \"CC1=C(C(=O)C(=C(C1=O)OC)OC)CC=C(C)CC\\C=C(/C)\\CC\\C=C(/C)\\CC\\C=C(/C)\\CC\\C=C(/C)\\CC\\C=C(/C)\\CC\\C=C(/C)\\CCC=C(C)C\", \n",
    "  \"F[C@H]1CC[C@H](O)CC1\", \n",
    "  \"C1CC1[C@H](F)C1CCC1\", \n",
    "  \"CC(=O)OC1=CC=CC=C1C(=O)O\"]\n",
    "\n",
    "x = descriptors_from_smiles(smiles) # Koneoppimisen malli hyödyntää molekulaarisia deskriptoreita laskiessaan kysyttyjä arvoja SMILES:ien perusteella\n",
    "display(x) # Tulostetaan taulukko."
   ]
  },
  {
   "cell_type": "markdown",
   "metadata": {},
   "source": [
    "## 10. Ennustetaan liukoisuutta"
   ]
  },
  {
   "cell_type": "code",
   "execution_count": null,
   "metadata": {},
   "outputs": [],
   "source": [
    "# Ennustetaan käyttäen koneoppimisen mallia.\n",
    "ennuste = model.predict(x)\n",
    "\n",
    "# Luodaan taulukko ennuisteista ja niiden SMILES:sseista ja tulostetaan se.\n",
    "df = pd.DataFrame({\"Ennustettu LogS\": ennuste, \"SMILE\": smiles})\n",
    "display(df)"
   ]
  },
  {
   "cell_type": "markdown",
   "metadata": {},
   "source": [
    "### Kysymys 8.\n",
    "**Mitä yhdisteitä tutkit ja liukenevatko ne veteen?**"
   ]
  },
  {
   "cell_type": "markdown",
   "metadata": {},
   "source": [
    "### Kysymys 9.\n",
    "**Miten valisemasi yhdisteen liukoisuus eroaa aspiriinista, joka tunnetusti liukenee hyvin veteen ja sopii lääkkeenä suun kautta annettavaksi?**"
   ]
  },
  {
   "cell_type": "markdown",
   "metadata": {},
   "source": [
    "---"
   ]
  },
  {
   "cell_type": "markdown",
   "metadata": {},
   "source": [
    "## 11. SwissADME\n",
    "SwissADME on ilmainen verkkotyökalu, jota käytetään arvioimaan kemiallisten yhdisteiden farmakokineettisiä ominaisuuksia. Se auttaa ennustamaan yhdisteiden imeytymistä, jakautumista, metaboliaa ja erittymistä, sekä analysoimaan niiden kemiallista reaktiivisuutta ja toksisuutta. Työkalu on erityisen hyödyllinen lääkekehityksessä, koska se tarjoaa nopean ja helpon tavan arvioida yhdisteiden potentiaalia toimia tehokkaina ja turvallisina lääkkeinä.\n",
    "\n",
    "http://www.swissadme.ch/ "
   ]
  },
  {
   "cell_type": "markdown",
   "metadata": {},
   "source": [
    "### Kysymys 10.\n",
    "**Tutki samoja yhdisteitä SwissADMEn avulla. Saatko saman ennusteen yhdisteen liukoisuudesta ja toimivuudesta lääkkeenä SwissADMENn avulla verrattuna yllä olevaan koneoppimismalliin?**"
   ]
  },
  {
   "cell_type": "markdown",
   "metadata": {},
   "source": [
    "---"
   ]
  }
 ],
 "metadata": {
  "kernelspec": {
   "display_name": "Python 3 (ipykernel)",
   "language": "python",
   "name": "python3"
  },
  "language_info": {
   "codemirror_mode": {
    "name": "ipython",
    "version": 3
   },
   "file_extension": ".py",
   "mimetype": "text/x-python",
   "name": "python",
   "nbconvert_exporter": "python",
   "pygments_lexer": "ipython3",
   "version": "3.10.14"
  }
 },
 "nbformat": 4,
 "nbformat_minor": 4
}
