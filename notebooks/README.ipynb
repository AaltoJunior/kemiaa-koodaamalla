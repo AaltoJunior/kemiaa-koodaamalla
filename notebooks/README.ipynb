{
 "cells": [
  {
   "cell_type": "markdown",
   "id": "cfda4863",
   "metadata": {},
   "source": [
    "# Lääkekekeimaa koodaamalla \n",
    "\n",
    "Suomenkieleiseen työpajaan pääset [tästä!](FI/fi_KemiaaKoodaamallaOppilas.ipynb)\n",
    "\n",
    "**HUOM!** Työpajan ETÄ versioon pääset [tästä!](FI_ETÄ/fi_KemiaaKoodaamallaOppilas_ETÄ.ipynb)"
   ]
  }
 ],
 "metadata": {
  "language_info": {
   "name": "python"
  }
 },
 "nbformat": 4,
 "nbformat_minor": 5
}
