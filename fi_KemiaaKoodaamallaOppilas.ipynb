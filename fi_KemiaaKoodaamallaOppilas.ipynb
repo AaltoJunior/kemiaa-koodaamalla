{
 "cells": [
  {
   "cell_type": "markdown",
   "metadata": {},
   "source": [
    "# Tervetuloa Kemiaa Koodaamalla työpajaan!\n",
    "\n",
    "### Tarina I \n",
    "_Olet kemisti suuren lääkefirman laboratoriossa. Tehtävänäsi on löytää lääkeyhdisteitä, joiden piirteet ovat vertailtavissa aspiriiniin. Erityisesti vesiliukoisuus on merkityksellinen, koska lääkeyhdisteen halutaan liukenevan hyvin vereen. Lääkeyhdisteen biologinen vaikutus ja metabolia voidaan mallintaa myöhemmin._\n",
    "\n",
    "_Olet tutkinut jo monta erilaista lupaavaa lääkeyhdistettä tuloksetta laboratoriossa vaativilla liukoisuuskokeilla, jotka riippuvat liuosten happamuudesta ja lämpötilasta. Määräaika viimeistellä projektin liukoisuuskokeet häämöttää, siis on keksittävä uusia tapoja määritellä yhdisteiden otannasta ne parhaimmat mahdolliset lääkeyhdisteet jatkotutkimuksia ja kokeellisuutta varten._\n",
    "\n",
    "_Onneksi sinulla on pääsy erilaisiin laboratoriotuloksiin ja mallinnustyökaluihin, joita ohjelmistokehittäjät farmasiassa ja kemiassa ovat uurastaneet omana tieteenhaaranaan jo vuosikymmeniä. On aika sukeltaa kemian informatiikan tai keminformatiikan maailmaan, ja ratkaista vesiliukoisuuskokeet ennen määräaikaa!_\n"
   ]
  },
  {
   "cell_type": "markdown",
   "metadata": {},
   "source": [
    "## Tekniset ohjeet\n",
    "\n",
    "Tässä työssä työskennellään Jupyter Notebookissa. Tämä notebook on ympäristö, joka sisältää soluja, jotka tekevät sen lukemisesta **modulaarisen**. Tämä modulaarisuus tarkoittaa sitä, että tietokone lukee jokaisen solun yksin, mutta ylhäältä alaspäin järjestyksessä. Solut voidaan jakaa kahteen tyyppiin tässä työohjeessa:\n",
    "\n",
    "- Koodisoluihin, joihin voidaan kirjoittaa komentoja. Usein ennen tätä ne lataavat erilaisia kirjastoja, mitä hyödyntää komentojen ja prosessien tekemiseen.\n",
    "- Markdown language -soluihin, joissa on tekstiä, jota voidaan muotoilla kuten tekstieditorissa, mutta tietyillä **komennoilla** erilaisia merkkejä joko ennen tai molemmin puolin sanaa.\n",
    "\n",
    "Tehtävät. Voit muokata kaikkia soluja kaksoisklikkaamalla solua ja kirjoittaa riveille komentoja tai siirtää kopioitua tekstiä niille -komennolla. Voit ajaa jokaisen solun, ja täten nähdä muutoksesi vaikutuksen painamalla: **CTRL + ENTER**\n",
    "\n",
    "Jos kohtaat teknisiä ongelmia, kuten jokin solu ei toimi, tämä voi johtua, että olet ajanut sen eri järjestyksessä kuin normaalisti. Pyri ajamaan soluja ylähäältä alaspäin. Jos ongelma ei johdu tästä, käytä tallenna komentoa ja paina tämän jälkeen **CTRL + SHIFT + R**. Tämä  nollaa notebookin. Vaihtoehtoisesti voit ajaa komennon 'Restart the kernel' yläpalkistosta.\n"
   ]
  },
  {
   "cell_type": "markdown",
   "metadata": {},
   "source": [
    "**Taulukko 1.** SMILES-säännöt erilaisilla esimerkeillä.\n",
    "| Symboli | Esim. | Selitys |\n",
    "| --- | --- | --- |\n",
    "| Kemiallinen merkki | `O` | Kyseessä on molekyyli, vesi. Alkuaineet ilmaistaan kemiallisina merkkeinä, kuten jaksollisessa järjestelmässä. Vetyjä ei ilmoiteta vaan ne tulkitaan automaattisesti osaksi yhdistettä perustuen alkuaineen tyypilliseen valenssiin, eli sidosten lukumäärään. Katso koodista miten ne saadaan näkyviin |\n",
    "| Kovalenttinen sidos | `C=C` | Yksinkertaisia sidoksia ei esitetä, mutta kaksois- ja kolmoissidokset esitetään = ja # symbolein |\n",
    "| Vedyt | `C` | Merkitään vain kiraalisuuden määrittämisessä, C vastaa metaania eli CH4:sta |\n",
    "| Haarat | `CCCC(C)CC` | Sulut () ilmoittavat haaran ja suluissa ilmoitetaan mikä haara on kyseessä  |\n",
    "| Rengasrakenne | `C1CCCCC1` tai `C1CCC(C(C1)Cl)Cl` | Numerot 1-9 ilmoittavat atomin sijainnin rengasrakenteessa. Vedyt korvanneet substituentit voidaan laittaa sulkuihin. HUOM. Cl on kloori-atomi|\n",
    "| Aromaattisuus | `c1ccccc1` | Rengasrakenteen kiraalisuus voidaan esittää vaihtamalla kirjaimet pieniksi |\n",
    "| Kiraalisuus | `C[C@@H](C(=O)O)N`  | L-alaniini, jossa @@ hiilen jälkeen osoittaa sen kiraaliseksi |\n",
    "| Isotoopit | `[13C]` | C13-isotoopeista koostuva etaanimolekyyli. Numerot ennen alkuainemerkkiä osoittavat isotoopin |\n",
    "| Sähköinen varaus ja radikaalit | `[NH4+].[Cl-]` tai `C[CH2].[CH3]`  | Varaus + tai -, ja radikaalit usein luetaan erityisillä algoritmeilla ohjelmistoissa, jotka tulkitsevat SMILES-merkkijonoja. Niille ei ole vakiintunutta merkintää  |"
   ]
  },
  {
   "cell_type": "markdown",
   "metadata": {},
   "source": [
    "### Testataan yhdisteiden piirtämistä SMILE:ssien avulla"
   ]
  },
  {
   "cell_type": "code",
   "execution_count": null,
   "metadata": {},
   "outputs": [],
   "source": [
    "# Testaa taulukon SMILES-merkkijonoja tällä koodisolulla. Samalla voit tutustua siihen, mitä esitietoja koodi tarvitsee.\n",
    "\n",
    "from rdkit import Chem\n",
    "from rdkit.Chem import rdDepictor\n",
    "from rdkit.Chem.Draw import IPythonConsole\n",
    "from rdkit.Chem.Draw import rdMolDraw2D\n",
    "from IPython.display import SVG\n",
    "\n",
    "smiles = 'C'  # Voit siirtää haluamasi SMILES-merkkjonon '-merkkien väliin. Paina lopuksi CTRL + ENTER\n",
    "m = Chem.MolFromSmiles(smiles)\n",
    "# m = Chem.AddHs(m) # Voit tällä komennolla visualisoida kaikki vedyt, jos haluat. Poista ensimmäinen #-merkki aktivoidaksesi asetuksen\n",
    "def moltosvg(mol, molSize=(350, 300), kekulize=True):\n",
    "    mc = Chem.Mol(mol.ToBinary())\n",
    "    if kekulize:\n",
    "        try:\n",
    "            Chem.Kekulize(mc)\n",
    "        except:\n",
    "            mc = Chem.Mol(mol.ToBinary())\n",
    "    if not mc.GetNumConformers():\n",
    "        rdDepictor.Compute2DCoords(mc)\n",
    "    drawer = rdMolDraw2D.MolDraw2DSVG(molSize[0], molSize[1])\n",
    "    drawer.DrawMolecule(mc)\n",
    "    drawer.FinishDrawing()\n",
    "    svg = drawer.GetDrawingText()\n",
    "    return svg.replace('svg:', '')\n",
    "\n",
    "SVG(moltosvg(m))"
   ]
  },
  {
   "cell_type": "markdown",
   "metadata": {},
   "source": [
    "###  Kysymys 2.\n",
    "**Minkä yhdisteen piirsit ja mitä funktionaalisia ryhmiä yhdisteellä on?**"
   ]
  },
  {
   "cell_type": "markdown",
   "metadata": {},
   "source": [
    "## Liitostaulukot\n",
    "Testataan miten liitostaulukot toimivat. Valitse jokin monimutkaisempi SMILES ja kokeile luoda liitostaulukko sille seuraavan koodin avulla. Voit myös koikeilla useammalle SMILEssille."
   ]
  },
  {
   "cell_type": "code",
   "execution_count": null,
   "metadata": {},
   "outputs": [],
   "source": [
    "from rdkit import Chem\n",
    "from rdkit.Chem import rdDepictor\n",
    "from rdkit.Chem.Draw import IPythonConsole\n",
    "from rdkit.Chem.Draw import rdMolDraw2D\n",
    "from IPython.display import SVG\n",
    "import numpy as np\n",
    "import pandas as pd\n",
    "\n",
    "mol = Chem.MolFromSmiles('C')\n",
    "\n",
    "d2d = rdMolDraw2D.MolDraw2DSVG(300,300)\n",
    "d2d.drawOptions().addAtomIndices = True  # Numerointi alkaa tietokoneelle numerosta 0\n",
    "d2d.DrawMolecules([mol])\n",
    "d2d.FinishDrawing()\n",
    "svg = SVG(d2d.GetDrawingText())\n",
    "\n",
    "num_atoms = mol.GetNumAtoms()\n",
    "connectivity_matrix = np.zeros((num_atoms, num_atoms), dtype=int)\n",
    "\n",
    "\n",
    "for bond in mol.GetBonds():\n",
    "    begin_atom_idx = bond.GetBeginAtomIdx()    \n",
    "    end_atom_idx = bond.GetEndAtomIdx()\n",
    "    bond_type = int(bond.GetBondTypeAsDouble())    \n",
    "    connectivity_matrix[begin_atom_idx][end_atom_idx] = bond_type\n",
    "    connectivity_matrix[end_atom_idx][begin_atom_idx] = bond_type\n",
    "    \n",
    "df = pd.DataFrame(connectivity_matrix)\n",
    "\n",
    "display(svg, df)"
   ]
  },
  {
   "cell_type": "markdown",
   "metadata": {},
   "source": [
    "### Stereokemiaa..."
   ]
  },
  {
   "cell_type": "code",
   "execution_count": null,
   "metadata": {},
   "outputs": [],
   "source": [
    "# Tällä koodilla voit esittää streokemiallisia yhdisteitä\n",
    "# Aluksi mol1 ja mol2 määritellään SMILES:ksi\n",
    "\n",
    "mol1 = Chem.MolFromSmiles('C/C=C/C') # Huomaa, että tämä toimii vain isomeerisille SMILES-merkkijonoille\n",
    "mol2 = Chem.MolFromSmiles('C[C@H](O)[C@@H](N)C(O)=O')\n",
    "\n",
    "\n",
    "d2d = rdMolDraw2D.MolDraw2DSVG(600,280,300,280)\n",
    "d2d.drawOptions().addStereoAnnotation=True # Komento merkitsee piirrokseen kiraaliset keskukset.\n",
    "d2d.DrawMolecules([mol1,mol2]) # RDKit pystyy tulostamaan vain kaksi molekyyliä kerrallaan\n",
    "d2d.FinishDrawing()\n",
    "SVG(d2d.GetDrawingText())"
   ]
  },
  {
   "cell_type": "markdown",
   "metadata": {},
   "source": [
    "### Kysymys 3.\n",
    "**Onko vasemman puolinen molekyyli cis vai transmuotoinen? Montako kiralikeskusta löytyy oikean puolimmaisesta yhdisteestä?**"
   ]
  },
  {
   "cell_type": "markdown",
   "metadata": {},
   "source": [
    "## PUG-REST menetelmä ja SMILES\n",
    "\n",
    "Ohjelmistoympäristöön voi tuoda helposti yhdisteitä teettämällä kyselyitä PubChem-palvelimelta. Tämä on erityisen hyödyllistä, kun halutaan nopeasti tuoda tietoa lääkeyhdisteistä ilman hakukoneita luettelemalla haluttuja molekyylejä osaksi koodia. \n",
    "\n",
    "Tästä on erityistä hyötyä, kun haluat hakea SMILES-merkkijonoja tietokannasta."
   ]
  },
  {
   "cell_type": "markdown",
   "metadata": {},
   "source": [
    "### Esimerkkejä lääkeistä\n",
    "| Lääkeaine                  | Tuotenimi                                                                                                                    | Kuvaus |\n",
    "| ----------- | -------------------------- | ---------------------------------------------------------------------------------------------------------------------------- |\n",
    "| Aspirin                | (Aspinrin)                                           | Maailman käytetyin tulehduskipulääke. Ehkäisee veren hyytymistä, jotekäytetään sydänifarktien ensihoitoon.                                                                                                                                               |\n",
    "| Ibuprofen              | (Burana)                                             | Tulehduskipulääke.                                                                                                                                                                                                                                       |\n",
    "| Paracetamol            | (Panadol)                                            | Kipulääke.                                                                                                                                                                                                                                               |\n",
    "| Morphine                | (Morfiini)                                           | Voimakas kipulääke. Käytetään sairaalahoidossa.                                                                                                                                                                                                          |\n",
    "| Cortisone\t             | (Prednison, Hydrocortison)                           | Kortisonia käytetään esim. astmaan, allergiohin ja ihosairaksien hoitoon. Käytetään hegitysteitse, tablettina sekä voiteena.                                                                                                                             |\n",
    "| Penicillin V           | (V-Pen)                                              | Antibiotti bakteeri infektioiden hoitoon.                                                                                                                                                                                                                |\n",
    "| Cetirizine\t            | (Heinix)                                             | Antihistamiini allegioiden hoitoon.                                                                                                                                                                                                                      |\n",
    "| Insulin                | (Lantus)                                             | Hormoni diabeteksen hoitoon.                                                                                                                                                                                                                             |\n",
    "| Paclitaxel             | (Taxol)                                              | Syöpälääke.                                                                                                                                                                                                                                              |\n",
    "| Sertraline              | (Zoloft)                                             | Masennuslääke, käytetään myös paniikkihäiriöön ja pakkoireisiin.                                                                                                                                                                                         |\n"
   ]
  },
  {
   "cell_type": "markdown",
   "metadata": {},
   "source": [
    "Valitse kolme tutkittavaa lääkeainetta. Voit hyödyntää yllä olevaa taulukkoa. Syötä lääkaineet koodiin!"
   ]
  },
  {
   "cell_type": "code",
   "execution_count": null,
   "metadata": {},
   "outputs": [],
   "source": [
    "import requests\n",
    " # Älä muokkaa tätä osuutta koodista. \n",
    "def retrieve_names(compound_names):\n",
    "    pugrest = \"https://pubchem.ncbi.nlm.nih.gov/rest/pug\"\n",
    "    pugoper = \"property/CanonicalSMILES\"\n",
    "    pugout = \"txt\"\n",
    "    results = {}\n",
    "    for compound_name in compound_names:\n",
    "        pugin = \"compound/name/\" + compound_name\n",
    "        url = f\"{pugrest}/{pugin}/{pugoper}/{pugout}\"\n",
    "        response = requests.get(url)\n",
    "        if response.status_code == 200:\n",
    "            results[compound_name] = response.text.strip()  # Strip to remove leading/trailing whitespaces\n",
    "        else:\n",
    "            results[compound_name] = f\"Error: {response.status_code}\"\n",
    "    return results\n",
    "\n",
    "# Muokkaa alla olevaa koodiriviä. Lisää tähän valitsemasi lääkkeet.\n",
    "compound_names = [\"\", \"\", \"\"] \n",
    "# Muokkaa vain yllä olevaa koodiriviä.\n",
    "\n",
    "canonical_smiles = retrieve_names(compound_names)\n",
    "for compound_name, smiles in canonical_smiles.items():\n",
    "    print(f\"Canonical SMILES for {compound_name}: {smiles}\")"
   ]
  },
  {
   "cell_type": "markdown",
   "metadata": {},
   "source": [
    "### Kysymys 4.\n",
    "**Mitä lääkeaineita valitsit? Ja mitä olivat niiden SMILES?**"
   ]
  },
  {
   "cell_type": "markdown",
   "metadata": {},
   "source": [
    "### Piirretään seutraavaksi valitsemasi lääkeaineet SMILESseja hyödyntäen."
   ]
  },
  {
   "cell_type": "code",
   "execution_count": null,
   "metadata": {},
   "outputs": [],
   "source": [
    "from rdkit import Chem \n",
    "from rdkit.Chem.Draw import IPythonConsole \n",
    "from rdkit.Chem import rdDepictor \n",
    "from rdkit.Chem.Draw import rdMolDraw2D \n",
    "from IPython.display import SVG \n",
    "\n",
    "smiles = '' # Testaa hakujesi tuloksia pistämällä SMILES kerrallaan '' merkkien väliin. \n",
    "m = Chem.MolFromSmiles(smiles)\n",
    "# m = Chem.AddHs(m) # Voit tällä komennolla visualisoida kaikki vedyt, jos haluat. Poista ensimmäinen #-merkki aktivoidaksesi asetuksen\n",
    "\n",
    "def moltosvg_with_indices(mol, molSize = (350,300), kekulize = True):\n",
    "    mc = Chem.Mol(mol.ToBinary())\n",
    "    if kekulize:\n",
    "        try:\n",
    "            Chem.Kekulize(mc)\n",
    "        except:\n",
    "            mc = Chem.Mol(mol.ToBinary())\n",
    "    if not mc.GetNumConformers():\n",
    "        rdDepictor.Compute2DCoords(mc)\n",
    "    drawer = rdMolDraw2D.MolDraw2DSVG(molSize[0],molSize[1])\n",
    "    drawer = Chem.Draw.rdMolDraw2D.MolDraw2DSVG(molSize[0], molSize[1])\n",
    "    drawer.drawOptions().addAtomIndices = True  # Add atom indices\n",
    "    drawer.DrawMolecule(mc)\n",
    "    drawer.FinishDrawing()\n",
    "    svg = drawer.GetDrawingText()\n",
    "    return svg.replace('svg:','')\n",
    "    \n",
    "SVG(moltosvg(m))"
   ]
  },
  {
   "cell_type": "markdown",
   "metadata": {},
   "source": [
    "### Kysymys 5.\n",
    "**Mitä funktionaalisia ryhmiä löydät lääkeaineista?**"
   ]
  },
  {
   "cell_type": "code",
   "execution_count": null,
   "metadata": {},
   "outputs": [],
   "source": [
    "# Tällaisella koodilla voit hakea erilaisilla trviaali- tai IUPAC-nimillä tiettyjä tietoja PubChem tietokannasta.\n",
    "\n",
    "import pubchempy as pcp \n",
    "import pandas as pd\n",
    "pd.options.display.max_colwidth = 1000\n",
    "\n",
    "names = [\"water\", \"benzene\", \"methanol\", \"ethene\", \"ethanol\", \"propene\", \"1-propanol\", \"2-propanol\", \"butadiene\", \"1-butanol\", \"2-butanol\", \"tert-butanol\"]\n",
    "\n",
    "# PubChem tietokannan yhdisteet on indeksoitu (ID) ja CID on lyhenne kemialliselle indeksille.\n",
    "# Ne ovat uniikkeja nimikkeille ja toimivat selkeämpänä perustana haulle SMILES:n tai muitten tietojen sijaan.\n",
    "compound_ids = [cp.cid for cp in pcp.get_compounds(names, namespace='name')]\n",
    "\n",
    "compound_ids = []\n",
    "for name in names:\n",
    "    try:\n",
    "        cp = pcp.get_compounds(name, namespace='name')\n",
    "        if cp:\n",
    "            compound_ids.append(cp[0].cid)\n",
    "    except Exception as e:\n",
    "        print(f\"Error retrieving CID for '{name}', : {e}\")\n",
    "results = pcp.get_properties(['IUPACName', 'MolecularFormula', 'MolecularWeight', 'CanonicalSMILES'], compound_ids)\n",
    "df = pd.DataFrame(results)\n",
    "display(df)"
   ]
  },
  {
   "cell_type": "markdown",
   "metadata": {},
   "source": [
    "### Kysymys 6.\n",
    "**Miten valitsemasi lääkeaineen nimi eroaa IUPAC-nimestä?**"
   ]
  },
  {
   "cell_type": "markdown",
   "metadata": {},
   "source": [
    "## Tutkimus"
   ]
  },
  {
   "cell_type": "code",
   "execution_count": null,
   "metadata": {},
   "outputs": [],
   "source": [
    "import pandas as pd        # Tuo Pythonin data-analyysi ohjelmiston, Pandasin tai pd ohjelmistoympäristöön\n",
    "pd.options.display.max_colwidth = 1000\n",
    "df = pd.read_csv('BP.csv') # lukee tiedoston taulukkona pandas -ohjelmiston avulla.\n",
    "display(df)                         # tulostaa taulukon, koska määritelty df tarkoittaa dataframe -komentoa."
   ]
  },
  {
   "cell_type": "code",
   "execution_count": null,
   "metadata": {},
   "outputs": [],
   "source": [
    "import matplotlib.pyplot as plt\n",
    "plt.scatter(df.Moolimassa, df.Kiehumispiste_K)     # Tekee verrannon lämpötilan (K) suhteesta moolimassaa vs molecular weight\n",
    "plt.xlabel('Moolimassa')\n",
    "plt.ylabel('Kiehumispiste')\n",
    "plt.show()"
   ]
  },
  {
   "cell_type": "markdown",
   "metadata": {},
   "source": [
    "### Kysymys 7.\n",
    "**Mitä voit päätellä molekyylien kiehumispisteistä ja niiden suhteesta moolimassaan? Miksi sama moolimassa voi johtaa eri kiehumispisteeseen?**"
   ]
  },
  {
   "cell_type": "markdown",
   "metadata": {},
   "source": [
    "### Regressioanalyysi **Tähän teksti miksi tätä tarvitaan (QSAR)**\n",
    "\n",
    "Lineeariset sovitukset ovat tuttuja varmasti matematiikan tunneilta. Tämä matemaattinen mallintaminen on yksi keskeisimpiä menetelmiä keminformatiikassa koska sillä voidaan tarkastella erilaisten muuttjien suhdetta toisiinsa (korrelaatio) aloittaen alkaen kahdesta tai usemmasta tekijästä. Alla on koodia, jolla voidaan sovittaa regressiomalli alkaanien ja sykloalkaaninien datasettiin. Mitä huomaat kun koodi tulostaa graafin? "
   ]
  },
  {
   "cell_type": "code",
   "execution_count": null,
   "metadata": {},
   "outputs": [],
   "source": [
    "import numpy as np\n",
    "import pandas as pd\n",
    "import matplotlib.pyplot as plt\n",
    "import seaborn as sns\n",
    "from sklearn.linear_model import LinearRegression\n",
    "\n",
    "# Lataa dataa .csv tiedostosta taulukoksi\n",
    "df = pd.read_csv('BP.csv')\n",
    "\n",
    "# Sovita lineaarinen regressiomalli \n",
    "model = LinearRegression()\n",
    "X = df[['Moolimassa']]  # Feature (independent variable)\n",
    "y = df['Kiehumispiste_K']  # Target variable (dependent variable)\n",
    "model.fit(X, y)\n",
    "\n",
    "# Piirrä  pistekuvio datasta \n",
    "plt.figure(figsize=(10, 6))\n",
    "sns.scatterplot(x='Moolimassa', y='Kiehumispiste_K', data=df, color='blue', label='Datapisteet')\n",
    "\n",
    "# Piirrä regressiosuora\n",
    "plt.plot(X, model.predict(X), color='red', label='Lineaarinen regressio')\n",
    "\n",
    "# Aseta otsikot ja mitat\n",
    "plt.xlabel('Moolimassa')\n",
    "plt.ylabel('Kiehumispiste (K)')\n",
    "plt.title('Lineaarinen regressio malli')\n",
    "\n",
    "# Show legend\n",
    "plt.legend()\n",
    "\n",
    "# Näytä sovitus\n",
    "plt.show()"
   ]
  },
  {
   "cell_type": "markdown",
   "metadata": {},
   "source": [
    "### Kysymys 8.\n",
    "**Seuraako punainen regssio suora datapisteitä tarkasti?**"
   ]
  },
  {
   "cell_type": "markdown",
   "metadata": {},
   "source": [
    "## Tarina II\n",
    "\n",
    "Nyt kun olet palauttanut mieliisi keminformatiikan työskentelytapoja on aika hyödyntää alla sijaitsevaa koneoppimisen mallia. \n",
    "\n",
    "Pääset hyödyntämään valmista koneoppimisen mallia, joka on koulutettu Delayneyn datasetillä, mutta erilaisilla koneoppimisen menetelmillä. Muistat myös, että olemassa on myös muita koneoppimisen malleja kuten sveitsiläinen SwissADME.\n",
    "\n",
    "#### SwissADME\n",
    "\n",
    "http://www.swissadme.ch/ \n",
    "\n",
    "#### Tehtäväsi\n",
    "\n",
    "**Löytää yhdisteitä, joilla on aspiriiniin verrattavissa oleva liukoisuus LogS-arvo -2.1 tutkimalla niitä niin SwissADME ja alla sijaitsevan koneoppimisen mallin avulla.** Tulkitse seuraavan taulukon avulla LogS-arvoja, jotka on siis laskettu Delaynen kaavalla, ja toimivat mittana vesilukoisuudelle.\n",
    "\n",
    "| Liukoisuus (LogS) | LogS < -4            | -4 < LogS < -2            | -2 < LogS < 0 |\n",
    "| ----------------- | ----------------- | -------------------- | ------------------------- |\n",
    "| Tulkinta                           | Ei liukene veteen                  | Liukenee melko hyvin                     | Liuekenee erinomaisesti                            |\n",
    "| Pitoisuus veressä                  | Minimaalinen                       | Hyvä                                     | Korkea, pitoisuuden nousu                          |\n",
    "\n",
    "\n",
    "On aika tutkia vähintään 10 yhdistettä aloittamalla niiden SMILES nimistä:\n",
    "\n",
    "- Voit etsiä tietokantoja joko vapaasti tai PUG-REST -komennoilla\n",
    "- Piirtää SwissADME:n sivuston piirto-ohjelmistolla aspiriinia muistuttavia rakenteita\n",
    "- Hyödyntää hyödyntää kokeellista dataa yhdisteistä (taulukko).\n",
    "- Voit luoda SwissADME:n piirto-ohjelmistolla SMILESja, joita voit myös tuoda tänne.\n",
    "\n",
    "Arvioi niiden soveltuvuudeltaan lääkeyhdisteiksi erityisesti **liukoisuuden arvon ja Lipinskin viiden säännön suhteen**.\n",
    "\n",
    "**Tämän työn tarkoitus on kartoittaa pieni otos samaa liukoisuutta omaavista yhdisteistä**, joita esimerkiksi sinä tai muut voivat **hyödyntää lähtökohtana seuraaville keminformatiikan liukoisuusmalleille**. Kaikki lähtee tunnetuista ja varmennetuista datapisteistä! Onnea matkaan!"
   ]
  },
  {
   "cell_type": "code",
   "execution_count": null,
   "metadata": {},
   "outputs": [],
   "source": [
    "# Voit esimerkiksi tutkia vastaako mallin arvot kokeellisten tutkimusten tuloksia. Datasetissä on epäonnistuneiden ennusteiden ja oikeiden ennusteiden tuloksia\n",
    "import numpy as np\n",
    "import pandas as pd\n",
    "pd.options.display.max_colwidth = 1000\n",
    "\n",
    "\n",
    "df = pd.read_csv('kokeellisetLogS_referenssipisteet.csv')\n",
    "pd.set_option('display.max_rows', 500)\n",
    "df = df.loc[:100, ['Chemical name', 'LogS exp (mol/L)', 'Test', 'SMILES']]\n",
    "display(df)"
   ]
  },
  {
   "cell_type": "markdown",
   "metadata": {},
   "source": [
    "## Koneoppimisen malli"
   ]
  },
  {
   "cell_type": "code",
   "execution_count": null,
   "metadata": {},
   "outputs": [],
   "source": [
    "from pycaret.classification import *\n",
    "\n",
    "model = load_model(\"WaterSoulubility_03_01_2024_model\")"
   ]
  },
  {
   "cell_type": "markdown",
   "metadata": {},
   "source": [
    "Käytä tätä koneoppimisen mallia ennustamaan liukoisuutta ja soveltuvuutta lääkeaineiksi! Syötä SMILES-jonoja yhdisteille mitä haluat tutkia, mutta muista erottaa ne pilkulla ja rivinvaihdolla."
   ]
  },
  {
   "cell_type": "code",
   "execution_count": null,
   "metadata": {
    "vscode": {
     "languageId": "ini"
    }
   },
   "outputs": [],
   "source": [
    "from chem_util import descriptors_from_smiles # syötä hakasulkeiden väliin SMILES-jonoja lainausmerkkien väliin esimerkin mukaisesti\n",
    "smiles = [                                    #Esimerkiksi seuraavat yhdisteet\n",
    "  \"C1CCCCC1\",\n",
    "  \"CC(C)Cc1ccc(cc1)C(C)C(=O)O\",\n",
    "  \"CC1(C(N2C(S1)C(C2=O)NC(=O)C(C3=CC=C(C=C3)O)N)C(=O)O)C\",\n",
    "  \"CC1=C(C(=O)C(=C(C1=O)OC)OC)CC=C(C)CC\\C=C(/C)\\CC\\C=C(/C)\\CC\\C=C(/C)\\CC\\C=C(/C)\\CC\\C=C(/C)\\CC\\C=C(/C)\\CCC=C(C)C\", \n",
    "  \"F[C@H]1CC[C@H](O)CC1\", \n",
    "  \"C1CC1[C@H](F)C1CCC1\", \n",
    "  \"CC(=O)OC1=CC=CC=C1C(=O)O\"]\n",
    "\n",
    "x = descriptors_from_smiles(smiles) # Koneoppimisen malli hyödyntää molekulaarisiadeskriptoreita laskiessaan kysyttyjä arvoja SMILES:n perusteella\n",
    "display(x)"
   ]
  },
  {
   "cell_type": "markdown",
   "metadata": {},
   "source": [
    "### Ennustetaan:"
   ]
  },
  {
   "cell_type": "code",
   "execution_count": null,
   "metadata": {},
   "outputs": [],
   "source": [
    "ennuste = model.predict(x)\n",
    "df = pd.DataFrame({\"Ennustettu LogS\": ennuste, \"SMILE\": smiles})\n",
    "\n",
    "display(df)"
   ]
  },
  {
   "cell_type": "markdown",
   "metadata": {},
   "source": [
    "### Kysymys 9.\n",
    "**???**"
   ]
  },
  {
   "cell_type": "markdown",
   "metadata": {},
   "source": []
  }
 ],
 "metadata": {
  "language_info": {
   "name": "python"
  }
 },
 "nbformat": 4,
 "nbformat_minor": 2
}
